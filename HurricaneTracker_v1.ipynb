{
 "cells": [
  {
   "cell_type": "code",
   "execution_count": 2,
   "id": "e3e072ca",
   "metadata": {},
   "outputs": [],
   "source": [
    "#Import packages\n",
    "import arcpy\n",
    "from pathlib import Path\n",
    "\n",
    "# Set paths\n",
    "raw_folder_path = Path.cwd().parent / 'data' / 'raw'\n",
    "processed_folder_path = Path.cwd().parent / 'data' / 'processed'\n",
    "\n",
    "#Allow arcpy to overwrite output\n",
    "arcpy.env.overwriteOutput = True\n",
    "\n",
    "#Set the default & scratch workspaces\n",
    "arcpy.env.workspace = str(raw_folder_path)"
   ]
  },
  {
   "cell_type": "code",
   "execution_count": 3,
   "id": "becd8eed",
   "metadata": {},
   "outputs": [],
   "source": [
    "# Set storm variable\n",
    "storm_season = 2005\n",
    "storm_name = \"KATRINA\"\n",
    "\n",
    "# Set model outputs\n",
    "storm_track_points = \"memory/track_points\"\n",
    "storm_track=\"memory/Tracklines\"\n",
    "usa_counties = 'https://services.arcgis.com/P3ePLMYs2RVChkJx/arcgis/rest/services/USA_Counties_Generalized_Boundaries/FeatureServer/0'\n",
    "affected_counties = processed_folder_path / 'affected_counties.shp'"
   ]
  },
  {
   "cell_type": "code",
   "execution_count": 4,
   "id": "0a7ad509",
   "metadata": {},
   "outputs": [
    {
     "data": {
      "text/html": [
       "<div class='gpresult'><h2 class='msg-title'>Messages</h2><div id='messages'>Start Time: Tuesday, October 21, 2025 4:47:46 PM<br>Succeeded at Tuesday, October 21, 2025 4:47:49 PM (Elapsed Time: 3.28 seconds)<br></div><div id = 'default' /></div></div>"
      ],
      "text/plain": [
       "<Result 'memory\\\\track_points'>"
      ]
     },
     "execution_count": 4,
     "metadata": {},
     "output_type": "execute_result"
    }
   ],
   "source": [
    "# Select track points corresponding to a single storm\n",
    "arcpy.analysis.Select(\n",
    "    in_features=\"IBTrACS_NA.shp\",\n",
    "    out_feature_class=storm_track_points,\n",
    "    where_clause=f\"SEASON = {storm_season} And NAME = '{storm_name}'\"\n",
    ")"
   ]
  },
  {
   "cell_type": "code",
   "execution_count": 5,
   "id": "569ae6d0",
   "metadata": {},
   "outputs": [
    {
     "data": {
      "text/html": [
       "<div class='gpresult'><h2 class='msg-title'>Messages</h2><div id='messages'>Start Time: Tuesday, October 21, 2025 4:47:50 PM<br>Row Count = 64<br>Succeeded at Tuesday, October 21, 2025 4:47:50 PM (Elapsed Time: 0.01 seconds)<br></div><div id = 'default' /></div></div>"
      ],
      "text/plain": [
       "<Result '64'>"
      ]
     },
     "execution_count": 5,
     "metadata": {},
     "output_type": "execute_result"
    }
   ],
   "source": [
    "# show the count of storm points\n",
    "arcpy.management.GetCount(in_rows = storm_track_points)"
   ]
  },
  {
   "cell_type": "code",
   "execution_count": 6,
   "id": "3d6373ff",
   "metadata": {},
   "outputs": [
    {
     "data": {
      "text/html": [
       "<div class='gpresult'><h2 class='msg-title'>Messages</h2><div id='messages'>Start Time: Tuesday, October 21, 2025 4:47:52 PM<br>Succeeded at Tuesday, October 21, 2025 4:47:52 PM (Elapsed Time: 0.47 seconds)<br></div><div id = 'default' /></div></div>"
      ],
      "text/plain": [
       "<Result 'memory\\\\Tracklines'>"
      ]
     },
     "execution_count": 6,
     "metadata": {},
     "output_type": "execute_result"
    }
   ],
   "source": [
    "inFeatures = storm_track_points\n",
    "outFeatures = storm_track\n",
    "\n",
    "\n",
    "arcpy.management.PointsToLine(\n",
    "    inFeatures,\n",
    "    outFeatures,\n",
    ")"
   ]
  },
  {
   "cell_type": "code",
   "execution_count": 7,
   "id": "766cb35b",
   "metadata": {},
   "outputs": [
    {
     "data": {
      "text/html": [
       "<div class='gpresult'><h2 class='msg-title'>Messages</h2><div id='messages'>Start Time: Tuesday, October 21, 2025 4:47:53 PM<br>Row Count = 1<br>Succeeded at Tuesday, October 21, 2025 4:47:53 PM (Elapsed Time: 0.00 seconds)<br></div><div id = 'default' /></div></div>"
      ],
      "text/plain": [
       "<Result '1'>"
      ]
     },
     "execution_count": 7,
     "metadata": {},
     "output_type": "execute_result"
    }
   ],
   "source": [
    "arcpy.management.GetCount(in_rows = storm_track)"
   ]
  },
  {
   "cell_type": "code",
   "execution_count": 8,
   "id": "b3da6ce8",
   "metadata": {},
   "outputs": [],
   "source": [
    "#Process: Select by location\n",
    "select_result = arcpy.management.SelectLayerByLocation(\n",
    "        in_layer=usa_counties,\n",
    "        select_features=storm_track\n",
    "\t)\n",
    "selected_counties_lyr = select_result.getOutput(0)"
   ]
  },
  {
   "cell_type": "code",
   "execution_count": 9,
   "id": "35d3bfad",
   "metadata": {},
   "outputs": [
    {
     "data": {
      "text/plain": [
       "<arcpy._mp.Layer at 0x121ce93acd0>"
      ]
     },
     "execution_count": 9,
     "metadata": {},
     "output_type": "execute_result"
    }
   ],
   "source": [
    "select_result.getOutput(0)"
   ]
  },
  {
   "cell_type": "code",
   "execution_count": 10,
   "id": "332a9a94",
   "metadata": {},
   "outputs": [
    {
     "data": {
      "text/html": [
       "<div class='gpresult'><h2 class='msg-title'>Messages</h2><div id='messages'>Start Time: Tuesday, October 21, 2025 4:48:00 PM<br>Row Count = 51<br>Succeeded at Tuesday, October 21, 2025 4:48:00 PM (Elapsed Time: 0.01 seconds)<br></div><div id = 'default' /></div></div>"
      ],
      "text/plain": [
       "<Result '51'>"
      ]
     },
     "execution_count": 10,
     "metadata": {},
     "output_type": "execute_result"
    }
   ],
   "source": [
    "arcpy.management.GetCount(in_rows = selected_counties_lyr)"
   ]
  },
  {
   "cell_type": "code",
   "execution_count": 11,
   "id": "0aa930d3",
   "metadata": {},
   "outputs": [
    {
     "data": {
      "text/html": [
       "<div class='gpresult'><h2 class='msg-title'>Messages</h2><div id='messages'>Start Time: Tuesday, October 21, 2025 4:48:01 PM<br>Succeeded at Tuesday, October 21, 2025 4:48:03 PM (Elapsed Time: 1.46 seconds)<br></div><div id = 'default' /></div></div>"
      ],
      "text/plain": [
       "<Result 'v:\\\\Rahhh\\\\data\\\\processed\\\\affected_counties.shp'>"
      ]
     },
     "execution_count": 11,
     "metadata": {},
     "output_type": "execute_result"
    }
   ],
   "source": [
    "#Process: Copy features to shapefile\n",
    "arcpy.management.CopyFeatures(\n",
    "    in_features = select_result,\n",
    "    out_feature_class = str(affected_counties)\n",
    ")"
   ]
  },
  {
   "cell_type": "code",
   "execution_count": 17,
   "id": "2f9e40bf",
   "metadata": {},
   "outputs": [
    {
     "data": {
      "text/plain": [
       "True"
      ]
     },
     "execution_count": 17,
     "metadata": {},
     "output_type": "execute_result"
    }
   ],
   "source": [
    "#Import the arcgis package\n",
    "import arcgis\n",
    "  \n",
    "#Create a \"gis\" object\n",
    "gis = arcgis.GIS()\n",
    "  \n",
    "#Create a map\n",
    "my_map = gis.map()\n",
    "  \n",
    "#Set the basemap to oceans\n",
    "my_map.basemap.basemap = \"oceans\"\n",
    "  \n",
    "#Create feature layers from the storm tracks affected_counties path\n",
    "track_lyr = arcgis.GeoAccessor.from_featureclass(storm_track)\n",
    "counties_lyr = arcgis.GeoAccessor.from_featureclass(str(affected_counties))\n",
    "  \n",
    "#Add the affected counties as a layer to the map\n",
    "my_map.content.add(counties_lyr)\n",
    "my_map.content.add(track_lyr)\n",
    "  \n",
    "#Show the map\n",
    "my_map.export_to_html('my_map.html')"
   ]
  },
  {
   "cell_type": "code",
   "execution_count": 13,
   "id": "b5b880af",
   "metadata": {},
   "outputs": [
    {
     "data": {
      "image/png": "[encoded data removed]",
      "text/plain": [
       "<Figure size 640x480 with 1 Axes>"
      ]
     },
     "metadata": {},
     "output_type": "display_data"
    }
   ],
   "source": [
    "#Create a plot of people affected by state\n",
    "the_plot = (\n",
    "    counties_lyr.\n",
    "    groupby('STATE_NAME')\n",
    "    .agg({'POPULATION':'sum'})\n",
    "    .sort_values(by='POPULATION',ascending=False)\n",
    "    .plot(\n",
    "        kind='barh',\n",
    "        title=f'{storm_name}-{storm_season}',\n",
    "        legend=False,\n",
    "        xlabel='People affected',\n",
    "        ylabel=''\n",
    "        )\n",
    ")"
   ]
  },
  {
   "cell_type": "code",
   "execution_count": null,
   "id": "27a1bc39",
   "metadata": {},
   "outputs": [],
   "source": []
  }
 ],
 "metadata": {
  "kernelspec": {
   "display_name": "Python 3",
   "language": "python",
   "name": "python3"
  },
  "language_info": {
   "codemirror_mode": {
    "name": "ipython",
    "version": 3
   },
   "file_extension": ".py",
   "mimetype": "text/x-python",
   "name": "python",
   "nbconvert_exporter": "python",
   "pygments_lexer": "ipython3",
   "version": "3.11.11"
  }
 },
 "nbformat": 4,
 "nbformat_minor": 5
}
